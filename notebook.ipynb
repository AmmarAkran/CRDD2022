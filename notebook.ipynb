{
 "cells": [
  {
   "cell_type": "markdown",
   "metadata": {
    "id": "UUXYHKUNaYT_"
   },
   "source": [
    "# Download datasets"
   ]
  },
  {
   "cell_type": "markdown",
   "metadata": {
    "id": "-R2IFwLkaYUA"
   },
   "source": [
    "## CRDDC2022 Dataset"
   ]
  },
  {
   "cell_type": "markdown",
   "metadata": {
    "id": "yxysdmCCaYUB"
   },
   "source": [
    "If the two following cells are not working, you can download the CRDDC2022 dataset from the following links:\n",
    "\n",
    "1 - Japan dataset from [here](https://bigdatacup.s3.ap-northeast-1.amazonaws.com/2022/CRDDC2022/RDD2022/Country_Specific_Data_CRDDC2022/RDD2022_Japan.zip), then extract it.\n",
    "\n",
    "2- India dataset from [here](https://bigdatacup.s3.ap-northeast-1.amazonaws.com/2022/CRDDC2022/RDD2022/Country_Specific_Data_CRDDC2022/RDD2022_India.zip), then extract it.\n",
    "\n",
    "3- Czech dataset from [here](https://bigdatacup.s3.ap-northeast-1.amazonaws.com/2022/CRDDC2022/RDD2022/Country_Specific_Data_CRDDC2022/RDD2022_Czech.zip), then extract it.\n",
    "\n",
    "4- Norway dataset from [here](https://bigdatacup.s3.ap-northeast-1.amazonaws.com/2022/CRDDC2022/RDD2022/Country_Specific_Data_CRDDC2022/RDD2022_Norway.zip), then extract it.\n",
    "\n",
    "5- United States dataset from [here](https://bigdatacup.s3.ap-northeast-1.amazonaws.com/2022/CRDDC2022/RDD2022/Country_Specific_Data_CRDDC2022/RDD2022_United_States.zip), then extract it.\n",
    "\n",
    "6- China MotorBike dataset from [here](https://bigdatacup.s3.ap-northeast-1.amazonaws.com/2022/CRDDC2022/RDD2022/Country_Specific_Data_CRDDC2022/RDD2022_China_MotorBike.zip), then extract it.\n",
    "\n",
    "7- China Drone dataset from [here](https://bigdatacup.s3.ap-northeast-1.amazonaws.com/2022/CRDDC2022/RDD2022/Country_Specific_Data_CRDDC2022/RDD2022_China_Drone.zip), then extract it."
   ]
  },
  {
   "cell_type": "code",
   "execution_count": null,
   "metadata": {},
   "outputs": [],
   "source": [
    "CRDDC2022 = {'Japan': 'https://bigdatacup.s3.ap-northeast-1.amazonaws.com/2022/CRDDC2022/RDD2022/Country_Specific_Data_CRDDC2022/RDD2022_Japan.zip',\n",
    "            'India': 'https://bigdatacup.s3.ap-northeast-1.amazonaws.com/2022/CRDDC2022/RDD2022/Country_Specific_Data_CRDDC2022/RDD2022_India.zip',\n",
    "            'Czech': 'https://bigdatacup.s3.ap-northeast-1.amazonaws.com/2022/CRDDC2022/RDD2022/Country_Specific_Data_CRDDC2022/RDD2022_Czech.zip',\n",
    "            'Norway': 'https://bigdatacup.s3.ap-northeast-1.amazonaws.com/2022/CRDDC2022/RDD2022/Country_Specific_Data_CRDDC2022/RDD2022_Norway.zip',\n",
    "            'United_States': 'https://bigdatacup.s3.ap-northeast-1.amazonaws.com/2022/CRDDC2022/RDD2022/Country_Specific_Data_CRDDC2022/RDD2022_United_States.zip',\n",
    "            'China_MotorBike': 'https://bigdatacup.s3.ap-northeast-1.amazonaws.com/2022/CRDDC2022/RDD2022/Country_Specific_Data_CRDDC2022/RDD2022_China_MotorBike.zip',\n",
    "            'China_Drone': 'https://bigdatacup.s3.ap-northeast-1.amazonaws.com/2022/CRDDC2022/RDD2022/Country_Specific_Data_CRDDC2022/RDD2022_China_Drone.zip'}"
   ]
  },
  {
   "cell_type": "code",
   "execution_count": null,
   "metadata": {
    "colab": {
     "base_uri": "https://localhost:8080/"
    },
    "id": "VrtbSMHAaYUC",
    "outputId": "692675dd-af2d-484c-ca16-77c812309800"
   },
   "outputs": [],
   "source": [
    "import urllib.request\n",
    "from tqdm import tqdm\n",
    "print('Downloading the CRDDC2022 Dataset...')\n",
    "for country_name, url in tqdm(CRDDC2022.items()):\n",
    "    urllib.request.urlretrieve(url, f'./CRDD2022_all_countries/{country_name}.zip')"
   ]
  },
  {
   "cell_type": "markdown",
   "metadata": {
    "id": "BFoPpbrsa36E"
   },
   "source": [
    "# Modify the architecture of the datasets as well as the label format to be compatible with Yolov7"
   ]
  },
  {
   "cell_type": "code",
   "execution_count": null,
   "metadata": {
    "colab": {
     "base_uri": "https://localhost:8080/"
    },
    "id": "CwgpQGs8bnvw",
    "outputId": "e7836918-9e62-415e-f811-61d68753a45b"
   },
   "outputs": [],
   "source": [
    "from xml.etree import ElementTree\n",
    "from xml.dom import minidom\n",
    "import collections\n",
    "import os\n",
    "\n",
    "import matplotlib.pyplot as plt\n",
    "import matplotlib as matplot\n",
    "import seaborn as sns\n",
    "%matplotlib inline\n",
    "\n",
    "import torch\n",
    "from IPython.display import Image  # for displaying images\n",
    "\n",
    "print('torch %s %s' % (torch.__version__, torch.cuda.get_device_properties(0) if torch.cuda.is_available() else 'CPU'))"
   ]
  },
  {
   "cell_type": "code",
   "execution_count": null,
   "metadata": {
    "id": "O8nOsuSgfbgW"
   },
   "outputs": [],
   "source": [
    "import os\n",
    "import random\n",
    "from shutil import copy"
   ]
  },
  {
   "cell_type": "code",
   "execution_count": null,
   "metadata": {
    "id": "xx3QuSRyhW8e"
   },
   "outputs": [],
   "source": [
    "countries = ['Czech','India','Japan','Norway','United_States','China_MotorBike','China_Drone']\n",
    "countriestest = ['Czech','India','Japan','Norway','United_States','China_MotorBike']\n",
    "\n",
    "base_path = \"./CRDD2022_all_countries/\"\n",
    "damageType_to_class = {\"D00\":0,\"D10\":1, \"D20\":2, \"D40\":3}\n",
    "damageTypes = ['D00','D10','D20','D40']\n",
    "class_dict = {'D00':0,'D10':0,'D20':0,'D40':0}"
   ]
  },
  {
   "cell_type": "markdown",
   "metadata": {
    "id": "MisRVKZBhg5p"
   },
   "source": [
    "As we only have the labels of the train dataset, we have to split the train set into two sets : the train set and the test/validation set\n",
    "We do that by random, "
   ]
  },
  {
   "cell_type": "code",
   "execution_count": null,
   "metadata": {
    "colab": {
     "base_uri": "https://localhost:8080/"
    },
    "id": "9D4hwMqBha6y",
    "outputId": "e5ed4bdf-025d-468e-c549-70fb97bbb900"
   },
   "outputs": [],
   "source": [
    "file_list = []\n",
    "for country in countries :\n",
    "    file_list_country = os.listdir('./CRDD2022_all_countries/{}/train/images'.format(country))\n",
    "    random.shuffle(file_list_country)\n",
    "    file_list.append(file_list_country)\n",
    "    print(\"Number of images in \"+country+\" : \"+str(len(file_list_country)))"
   ]
  },
  {
   "cell_type": "code",
   "execution_count": null,
   "metadata": {},
   "outputs": [],
   "source": [
    "file_list_test = []\n",
    "for country in countriestest :\n",
    "    file_list_country = os.listdir('./CRDD2022_all_countries/{}/test/images'.format(country))\n",
    "    file_list_test.append(file_list_country)\n",
    "    print(\"Number of images in \"+country+\" : \"+str(len(file_list_country)))"
   ]
  },
  {
   "cell_type": "code",
   "execution_count": null,
   "metadata": {
    "id": "PF_JWAIUiXyV"
   },
   "outputs": [],
   "source": [
    "!mkdir RDD_Dataset_2022_Yolo\n",
    "!mkdir RDD_Dataset_2022_Yolo/images\n",
    "!mkdir RDD_Dataset_2022_Yolo/labels\n",
    "!mkdir RDD_Dataset_2022_Yolo/images/train\n",
    "!mkdir RDD_Dataset_2022_Yolo/images/val\n",
    "!mkdir RDD_Dataset_2022_Yolo/labels/train\n",
    "!mkdir RDD_Dataset_2022_Yolo/labels/val"
   ]
  },
  {
   "cell_type": "code",
   "execution_count": null,
   "metadata": {},
   "outputs": [],
   "source": [
    "!mkdir RDD_Dataset_2022_Yolo\n",
    "!mkdir RDD_Dataset_2022_Yolo/images\n",
    "!mkdir RDD_Dataset_2022_Yolo/images/test"
   ]
  },
  {
   "cell_type": "code",
   "execution_count": null,
   "metadata": {
    "id": "9PidG1P6h7Nf"
   },
   "outputs": [],
   "source": [
    "PROPORTION_TRAIN = 0.9 # Proportion of the images used for training\n",
    "PATH_IMGS = \"CRDD2022_all_countries/images/\"\n",
    "PATH_LABELS = \"CRDD2022_all_countries/labels/\""
   ]
  },
  {
   "cell_type": "code",
   "execution_count": null,
   "metadata": {
    "id": "QSGbo3ZeihRV"
   },
   "outputs": [],
   "source": [
    "file_list_train = []\n",
    "file_list_val = []\n",
    "for i in range(len(countries)) :\n",
    "    file_list_train.append(file_list[i][:int(PROPORTION_TRAIN*len(file_list[i]))])\n",
    "    file_list_val.append(file_list[i][int(PROPORTION_TRAIN*len(file_list[i])):])"
   ]
  },
  {
   "cell_type": "code",
   "execution_count": null,
   "metadata": {
    "id": "OFPwka6wituk"
   },
   "outputs": [],
   "source": [
    "phases = ['train','val']\n",
    "file_list_train_val = [file_list_train,file_list_val]\n",
    "for (j,phase) in enumerate(phases) :\n",
    "    file_list_phase = file_list_train_val[j]\n",
    "    for (i,country) in enumerate(countries) :\n",
    "        file_list_country = file_list_phase[i]\n",
    "\n",
    "        ################################### FOR THE LABELS ###################################\n",
    "        for file in file_list_country:\n",
    "            file_name = file.rsplit('.')[0]\n",
    "            infile_xml = open(base_path + country + '/train/annotations/xmls/' + file_name +'.xml')\n",
    "            tree = ElementTree.parse(infile_xml)\n",
    "            root = tree.getroot()\n",
    "            file_txt = open(PATH_LABELS+phase+'/'+file_name+'.txt','w')\n",
    "\n",
    "            for obj in root.iter('size'):\n",
    "                img_height = int(obj.find('height').text)\n",
    "                img_width = int(obj.find('width').text)\n",
    "\n",
    "            nb_boxes_img = 0\n",
    "            for obj in root.iter('object'):\n",
    "                cls_name = obj.find('name').text\n",
    "                if cls_name not in damageTypes :\n",
    "                    pass\n",
    "                else :\n",
    "                    class_dict[cls_name]+=1\n",
    "                    nb_boxes_img += 1\n",
    "                    xmlbox = obj.find('bndbox')\n",
    "                    xmin = int(round(float(xmlbox.find('xmin').text)))\n",
    "                    xmax = int(round(float(xmlbox.find('xmax').text)))\n",
    "                    ymin = int(round(float(xmlbox.find('ymin').text)))\n",
    "                    ymax = int(round(float(xmlbox.find('ymax').text)))\n",
    "\n",
    "                    x_center = 0.5*(xmin + xmax)\n",
    "                    y_center = 0.5*(ymin + ymax)\n",
    "                    width = xmax - xmin\n",
    "                    height = ymax - ymin\n",
    "                    \n",
    "                    x_center, y_center, width, height = round(x_center/img_width,5), round(y_center/img_height,5), round(width/img_width,5), round(height/img_height,5)\n",
    "\n",
    "                    class_number = damageType_to_class[cls_name]\n",
    "\n",
    "                    file_txt.write(str(class_number)+' '+str(x_center)+' '+str(y_center)+' '+str(width)+' '+str(height)+'\\n')\n",
    "            file_txt.close()\n",
    "            ################################ FOR THE IMAGES ########################################\n",
    "            img_path = base_path + country + '/train/images/' + file\n",
    "            phase_path = PATH_IMGS+phase+'/'\n",
    "            copy(img_path,phase_path)"
   ]
  },
  {
   "cell_type": "code",
   "execution_count": null,
   "metadata": {},
   "outputs": [],
   "source": [
    "for (j,phase) in enumerate(['test']) :\n",
    "    file_list_phase = file_list_test\n",
    "    for (i,country) in enumerate(countries) :\n",
    "        file_list_country = file_list_phase[i]\n",
    "        for file in file_list_country:\n",
    "            ################################ FOR THE IMAGES ########################################\n",
    "            img_path = base_path + country + '/test/images/' + file\n",
    "            phase_path = PATH_IMGS+phase+'/'\n",
    "            copy(img_path,phase_path)"
   ]
  },
  {
   "cell_type": "markdown",
   "metadata": {
    "id": "aMZf_fzBk9aE"
   },
   "source": [
    "# Clone Yolov7 GitHub repository to start training"
   ]
  },
  {
   "cell_type": "code",
   "execution_count": null,
   "metadata": {
    "colab": {
     "base_uri": "https://localhost:8080/"
    },
    "id": "bFOSMYh-lClf",
    "outputId": "71f3896b-3537-431c-db29-dba0c65bc1f0"
   },
   "outputs": [],
   "source": [
    "!git clone https://github.com/WongKinYiu/yolov7.git  # clone repository\n",
    "%cd yolov7\n",
    "\n",
    "%pip install -qr requirements.txt  # install dependencies\n",
    "import torch\n",
    "from IPython.display import Image, clear_output  # to display images\n",
    "\n",
    "clear_output()\n",
    "print(f\"Setup complete. Using torch {torch.__version__} ({torch.cuda.get_device_properties(0).name if torch.cuda.is_available() else 'CPU'})\")"
   ]
  },
  {
   "cell_type": "code",
   "execution_count": null,
   "metadata": {
    "id": "w3ebPIqzm9e5"
   },
   "outputs": [],
   "source": [
    "# Weights & Biases  (optional)\n",
    "\n",
    "# %pip install -q wandb\n",
    "# import wandb\n",
    "# wandb.login(key='xxx') # After registering to WandB you will have access to your key, that you cant put in the place of xxx"
   ]
  },
  {
   "cell_type": "markdown",
   "metadata": {
    "id": "0MVIsZs-uQrF"
   },
   "source": [
    "If you have any problem with training or testing with Yolov7, please refer to the [Yolov7 github](https://github.com/WongKinYiu/yolov7)"
   ]
  },
  {
   "cell_type": "markdown",
   "metadata": {
    "id": "kZcWMVSMqEh7"
   },
   "source": [
    "## Train"
   ]
  },
  {
   "cell_type": "markdown",
   "metadata": {
    "id": "EkTpMxNSxiud"
   },
   "source": [
    "Every train run is saved in yolov7/runs/train/"
   ]
  },
  {
   "cell_type": "markdown",
   "metadata": {
    "id": "b9YRSn6XqOH_"
   },
   "source": [
    "Train with default hyperparameters and predefined weights"
   ]
  },
  {
   "cell_type": "code",
   "execution_count": null,
   "metadata": {},
   "outputs": [],
   "source": [
    "# Train from scratch yolov7 for all countries\n",
    "!python train.py --workers 8 --device 0 --batch-size 8 --data data/coco-custom.yaml --img 640 640 --cfg cfg/training/yolov7-RDD2022.yaml --weights ' ' --name yolo7 --hyp data/hyp.scratch.p5.yaml"
   ]
  },
  {
   "cell_type": "code",
   "execution_count": null,
   "metadata": {},
   "outputs": [],
   "source": [
    "# Train yolov7x fine-tuned for all countries\n",
    "!python train.py --workers 8 --device 0 --batch-size 8 --data data/coco-custom.yaml --img 640 640 --cfg cfg/training/yolov7x-RDD2022.yaml --weights yolov7x_training.pt  --name yolo7x --hyp data/hyp.scratch.custom.yaml"
   ]
  }
 ],
 "metadata": {
  "colab": {
   "collapsed_sections": [],
   "name": "download.ipynb",
   "provenance": []
  },
  "interpreter": {
   "hash": "38a60c5991e2a49fcb728a4f0b42df6d6302cdd4a358ff20b733caefebd4e3da"
  },
  "kernelspec": {
   "display_name": "Python 3 (ipykernel)",
   "language": "python",
   "name": "python3"
  },
  "language_info": {
   "codemirror_mode": {
    "name": "ipython",
    "version": 3
   },
   "file_extension": ".py",
   "mimetype": "text/x-python",
   "name": "python",
   "nbconvert_exporter": "python",
   "pygments_lexer": "ipython3",
   "version": "3.8.12"
  }
 },
 "nbformat": 4,
 "nbformat_minor": 2
}
